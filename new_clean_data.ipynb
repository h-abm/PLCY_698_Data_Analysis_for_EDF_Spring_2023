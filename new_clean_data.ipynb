{
 "cells": [
  {
   "cell_type": "code",
   "execution_count": 57,
   "metadata": {
    "collapsed": true
   },
   "outputs": [],
   "source": [
    "import datascience\n",
    "import numpy as np\n",
    "import pandas as pd"
   ]
  },
  {
   "cell_type": "code",
   "execution_count": 58,
   "outputs": [
    {
     "data": {
      "text/plain": "   Place FIPS  Total Population  Population Density (Per Sq. Mile)  \\\n0   3700160.0            7862.0                              774.8   \n1   3700440.0            1135.0                              158.5   \n2   3700500.0            4819.0                             1095.0   \n3   3700640.0            1280.0                             1609.8   \n4   3700680.0           16073.0                              920.6   \n5   3700880.0             818.0                              414.1   \n\n   Area (Land)  Under 5 Years  5 to 9 Years  10 to 14 Years  15 to 17 Years  \\\n0        10.15          849.0         723.0           277.0           116.0   \n1         7.16          141.0         116.0            87.0            33.0   \n2         4.40          256.0         178.0           312.0           196.0   \n3         0.80           15.0         108.0           152.0            98.0   \n4        17.46         1008.0        1324.0           876.0           449.0   \n5         1.98           28.0          56.0            11.0             0.0   \n\n   18 to 24 Years  25 to 34 Years  ...  Living in Poverty.1  \\\n0           434.0          1116.0  ...                378.0   \n1             0.0           139.0  ...                 80.0   \n2           445.0           739.0  ...                623.0   \n3            69.0            81.0  ...                  4.0   \n4          1350.0          2335.0  ...               1697.0   \n5            76.0            74.0  ...                 48.0   \n\n   At or Above Poverty Level.1  \\\n0                       4084.0   \n1                        526.0   \n2                       2218.0   \n3                        717.0   \n4                       7086.0   \n5                        287.0   \n\n   Population Age 65 and Over for Whom Poverty  Status Is Determined:  \\\n0                                             1313.0                    \n1                                              152.0                    \n2                                              803.0                    \n3                                              186.0                    \n4                                             3107.0                    \n5                                              388.0                    \n\n   Living in Poverty.2  At or Above Poverty Level.2  \\\n0                 61.0                       1252.0   \n1                 13.0                        139.0   \n2                160.0                        643.0   \n3                  6.0                        180.0   \n4                433.0                       2674.0   \n5                 20.0                        368.0   \n\n   Rural Capacity (Headwaters Index)  Social Vulnerability (CDC Index)  \\\n0                               74.0                              0.48   \n1                                NaN                              0.18   \n2                               67.0                              0.86   \n3                               68.0                              0.16   \n4                               87.0                              0.67   \n5                                NaN                              0.35   \n\n   Percent of Land in 500-Year Floodplain  \\\n0                                    0.43   \n1                                    0.08   \n2                                    1.37   \n3                                    1.44   \n4                                    0.64   \n5                                     NaN   \n\n   Percent of Land in 100-Year Floodplain  \\\n0                                    4.22   \n1                                   10.22   \n2                                   10.22   \n3                                    4.64   \n4                                    7.19   \n5                                     NaN   \n\n   Total Percent of Land at Some Level of Flood Risk  \n0                                               4.65  \n1                                              10.30  \n2                                              11.59  \n3                                               6.09  \n4                                               7.83  \n5                                                NaN  \n\n[6 rows x 89 columns]",
      "text/html": "<div>\n<style scoped>\n    .dataframe tbody tr th:only-of-type {\n        vertical-align: middle;\n    }\n\n    .dataframe tbody tr th {\n        vertical-align: top;\n    }\n\n    .dataframe thead th {\n        text-align: right;\n    }\n</style>\n<table border=\"1\" class=\"dataframe\">\n  <thead>\n    <tr style=\"text-align: right;\">\n      <th></th>\n      <th>Place FIPS</th>\n      <th>Total Population</th>\n      <th>Population Density (Per Sq. Mile)</th>\n      <th>Area (Land)</th>\n      <th>Under 5 Years</th>\n      <th>5 to 9 Years</th>\n      <th>10 to 14 Years</th>\n      <th>15 to 17 Years</th>\n      <th>18 to 24 Years</th>\n      <th>25 to 34 Years</th>\n      <th>...</th>\n      <th>Living in Poverty.1</th>\n      <th>At or Above Poverty Level.1</th>\n      <th>Population Age 65 and Over for Whom Poverty  Status Is Determined:</th>\n      <th>Living in Poverty.2</th>\n      <th>At or Above Poverty Level.2</th>\n      <th>Rural Capacity (Headwaters Index)</th>\n      <th>Social Vulnerability (CDC Index)</th>\n      <th>Percent of Land in 500-Year Floodplain</th>\n      <th>Percent of Land in 100-Year Floodplain</th>\n      <th>Total Percent of Land at Some Level of Flood Risk</th>\n    </tr>\n  </thead>\n  <tbody>\n    <tr>\n      <th>0</th>\n      <td>3700160.0</td>\n      <td>7862.0</td>\n      <td>774.8</td>\n      <td>10.15</td>\n      <td>849.0</td>\n      <td>723.0</td>\n      <td>277.0</td>\n      <td>116.0</td>\n      <td>434.0</td>\n      <td>1116.0</td>\n      <td>...</td>\n      <td>378.0</td>\n      <td>4084.0</td>\n      <td>1313.0</td>\n      <td>61.0</td>\n      <td>1252.0</td>\n      <td>74.0</td>\n      <td>0.48</td>\n      <td>0.43</td>\n      <td>4.22</td>\n      <td>4.65</td>\n    </tr>\n    <tr>\n      <th>1</th>\n      <td>3700440.0</td>\n      <td>1135.0</td>\n      <td>158.5</td>\n      <td>7.16</td>\n      <td>141.0</td>\n      <td>116.0</td>\n      <td>87.0</td>\n      <td>33.0</td>\n      <td>0.0</td>\n      <td>139.0</td>\n      <td>...</td>\n      <td>80.0</td>\n      <td>526.0</td>\n      <td>152.0</td>\n      <td>13.0</td>\n      <td>139.0</td>\n      <td>NaN</td>\n      <td>0.18</td>\n      <td>0.08</td>\n      <td>10.22</td>\n      <td>10.30</td>\n    </tr>\n    <tr>\n      <th>2</th>\n      <td>3700500.0</td>\n      <td>4819.0</td>\n      <td>1095.0</td>\n      <td>4.40</td>\n      <td>256.0</td>\n      <td>178.0</td>\n      <td>312.0</td>\n      <td>196.0</td>\n      <td>445.0</td>\n      <td>739.0</td>\n      <td>...</td>\n      <td>623.0</td>\n      <td>2218.0</td>\n      <td>803.0</td>\n      <td>160.0</td>\n      <td>643.0</td>\n      <td>67.0</td>\n      <td>0.86</td>\n      <td>1.37</td>\n      <td>10.22</td>\n      <td>11.59</td>\n    </tr>\n    <tr>\n      <th>3</th>\n      <td>3700640.0</td>\n      <td>1280.0</td>\n      <td>1609.8</td>\n      <td>0.80</td>\n      <td>15.0</td>\n      <td>108.0</td>\n      <td>152.0</td>\n      <td>98.0</td>\n      <td>69.0</td>\n      <td>81.0</td>\n      <td>...</td>\n      <td>4.0</td>\n      <td>717.0</td>\n      <td>186.0</td>\n      <td>6.0</td>\n      <td>180.0</td>\n      <td>68.0</td>\n      <td>0.16</td>\n      <td>1.44</td>\n      <td>4.64</td>\n      <td>6.09</td>\n    </tr>\n    <tr>\n      <th>4</th>\n      <td>3700680.0</td>\n      <td>16073.0</td>\n      <td>920.6</td>\n      <td>17.46</td>\n      <td>1008.0</td>\n      <td>1324.0</td>\n      <td>876.0</td>\n      <td>449.0</td>\n      <td>1350.0</td>\n      <td>2335.0</td>\n      <td>...</td>\n      <td>1697.0</td>\n      <td>7086.0</td>\n      <td>3107.0</td>\n      <td>433.0</td>\n      <td>2674.0</td>\n      <td>87.0</td>\n      <td>0.67</td>\n      <td>0.64</td>\n      <td>7.19</td>\n      <td>7.83</td>\n    </tr>\n    <tr>\n      <th>5</th>\n      <td>3700880.0</td>\n      <td>818.0</td>\n      <td>414.1</td>\n      <td>1.98</td>\n      <td>28.0</td>\n      <td>56.0</td>\n      <td>11.0</td>\n      <td>0.0</td>\n      <td>76.0</td>\n      <td>74.0</td>\n      <td>...</td>\n      <td>48.0</td>\n      <td>287.0</td>\n      <td>388.0</td>\n      <td>20.0</td>\n      <td>368.0</td>\n      <td>NaN</td>\n      <td>0.35</td>\n      <td>NaN</td>\n      <td>NaN</td>\n      <td>NaN</td>\n    </tr>\n  </tbody>\n</table>\n<p>6 rows × 89 columns</p>\n</div>"
     },
     "execution_count": 58,
     "metadata": {},
     "output_type": "execute_result"
    }
   ],
   "source": [
    "# read in the data\n",
    "edf_data = pd.read_csv('EDF_Database_2v3_1.csv')\n",
    "edf_data.head(6)"
   ],
   "metadata": {
    "collapsed": false
   }
  },
  {
   "cell_type": "code",
   "execution_count": 59,
   "outputs": [],
   "source": [
    "def str_to_flt(column_name):\n",
    "    edf_data[column_name] = edf_data[column_name].str.replace(',', '')\n",
    "    edf_data[column_name] = edf_data[column_name].astype(float)\n",
    "    print(type(edf_data[column_name][0]))"
   ],
   "metadata": {
    "collapsed": false
   }
  },
  {
   "cell_type": "code",
   "execution_count": 60,
   "outputs": [],
   "source": [
    "for column in edf_data.columns:\n",
    "    if type(edf_data[column][0]) == str:\n",
    "        str_to_flt(column)"
   ],
   "metadata": {
    "collapsed": false
   }
  },
  {
   "cell_type": "code",
   "execution_count": 61,
   "outputs": [
    {
     "name": "stdout",
     "output_type": "stream",
     "text": [
      "<class 'numpy.float64'>\n",
      "<class 'numpy.float64'>\n",
      "<class 'numpy.float64'>\n",
      "<class 'numpy.float64'>\n",
      "<class 'numpy.float64'>\n",
      "<class 'numpy.float64'>\n",
      "<class 'numpy.float64'>\n",
      "<class 'numpy.float64'>\n",
      "<class 'numpy.float64'>\n",
      "<class 'numpy.float64'>\n",
      "<class 'numpy.float64'>\n",
      "<class 'numpy.float64'>\n",
      "<class 'numpy.float64'>\n",
      "<class 'numpy.float64'>\n",
      "<class 'numpy.float64'>\n",
      "<class 'numpy.float64'>\n",
      "<class 'numpy.float64'>\n",
      "<class 'numpy.float64'>\n",
      "<class 'numpy.float64'>\n",
      "<class 'numpy.float64'>\n",
      "<class 'numpy.float64'>\n",
      "<class 'numpy.float64'>\n",
      "<class 'numpy.float64'>\n",
      "<class 'numpy.float64'>\n",
      "<class 'numpy.float64'>\n",
      "<class 'numpy.float64'>\n",
      "<class 'numpy.float64'>\n",
      "<class 'numpy.float64'>\n",
      "<class 'numpy.float64'>\n",
      "<class 'numpy.float64'>\n",
      "<class 'numpy.float64'>\n",
      "<class 'numpy.float64'>\n",
      "<class 'numpy.float64'>\n",
      "<class 'numpy.float64'>\n",
      "<class 'numpy.float64'>\n",
      "<class 'numpy.float64'>\n",
      "<class 'numpy.float64'>\n",
      "<class 'numpy.float64'>\n",
      "<class 'numpy.float64'>\n",
      "<class 'numpy.float64'>\n",
      "<class 'numpy.float64'>\n",
      "<class 'numpy.float64'>\n",
      "<class 'numpy.float64'>\n",
      "<class 'numpy.float64'>\n",
      "<class 'numpy.float64'>\n",
      "<class 'numpy.float64'>\n",
      "<class 'numpy.float64'>\n",
      "<class 'numpy.float64'>\n",
      "<class 'numpy.float64'>\n",
      "<class 'numpy.float64'>\n",
      "<class 'numpy.float64'>\n",
      "<class 'numpy.float64'>\n",
      "<class 'numpy.float64'>\n",
      "<class 'numpy.float64'>\n",
      "<class 'numpy.float64'>\n",
      "<class 'numpy.float64'>\n",
      "<class 'numpy.float64'>\n",
      "<class 'numpy.float64'>\n",
      "<class 'numpy.float64'>\n",
      "<class 'numpy.float64'>\n",
      "<class 'numpy.float64'>\n",
      "<class 'numpy.float64'>\n",
      "<class 'numpy.float64'>\n",
      "<class 'numpy.float64'>\n",
      "<class 'numpy.float64'>\n",
      "<class 'numpy.float64'>\n",
      "<class 'numpy.float64'>\n",
      "<class 'numpy.float64'>\n",
      "<class 'numpy.float64'>\n",
      "<class 'numpy.float64'>\n",
      "<class 'numpy.float64'>\n",
      "<class 'numpy.float64'>\n",
      "<class 'numpy.float64'>\n",
      "<class 'numpy.float64'>\n",
      "<class 'numpy.float64'>\n",
      "<class 'numpy.float64'>\n",
      "<class 'numpy.float64'>\n",
      "<class 'numpy.float64'>\n",
      "<class 'numpy.float64'>\n",
      "<class 'numpy.float64'>\n",
      "<class 'numpy.float64'>\n",
      "<class 'numpy.float64'>\n",
      "<class 'numpy.float64'>\n",
      "<class 'numpy.float64'>\n",
      "<class 'numpy.float64'>\n",
      "<class 'numpy.float64'>\n",
      "<class 'numpy.float64'>\n",
      "<class 'numpy.float64'>\n",
      "<class 'numpy.float64'>\n"
     ]
    }
   ],
   "source": [
    "# Check if columns are all floats\n",
    "for column in edf_data.columns:\n",
    "    print(type(edf_data[column][0]))"
   ],
   "metadata": {
    "collapsed": false
   }
  },
  {
   "cell_type": "code",
   "execution_count": 62,
   "outputs": [],
   "source": [
    "def remove_ds(column_name):\n",
    "    edf_data[column_name] = edf_data[column_name].str.replace('$', '')\n",
    "    edf_data[column_name] = edf_data[column_name].astype(float)\n",
    "    print(type(edf_data[column_name][0]))\n",
    "\n",
    "for column in edf_data.columns:\n",
    "    if type(edf_data[column][0]) == str:\n",
    "        remove_ds(column)"
   ],
   "metadata": {
    "collapsed": false
   }
  },
  {
   "cell_type": "code",
   "execution_count": 63,
   "outputs": [],
   "source": [
    "# Remove $ from all columns\n",
    "for column in edf_data.columns:\n",
    "    if type(edf_data[column][0]) == str:\n",
    "        remove_ds(column)\n"
   ],
   "metadata": {
    "collapsed": false
   }
  }
 ],
 "metadata": {
  "kernelspec": {
   "display_name": "Python 3",
   "language": "python",
   "name": "python3"
  },
  "language_info": {
   "codemirror_mode": {
    "name": "ipython",
    "version": 2
   },
   "file_extension": ".py",
   "mimetype": "text/x-python",
   "name": "python",
   "nbconvert_exporter": "python",
   "pygments_lexer": "ipython2",
   "version": "2.7.6"
  }
 },
 "nbformat": 4,
 "nbformat_minor": 0
}
